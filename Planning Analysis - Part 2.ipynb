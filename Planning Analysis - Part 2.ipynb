{
 "cells": [
  {
   "cell_type": "markdown",
   "metadata": {},
   "source": [
    "## AIND - Planning Lab Analysis \n",
    "\n",
    "\n",
    "This notebook intends to make an analysis in order to fully complete AIND Planning Lab.\n",
    "\n",
    "### Part 2 - Domain-independent heuristics:\n",
    "\n",
    "After coding `Planning Graph`, it'll be presented results running different search methods.\n",
    "\n",
    "\n"
   ]
  },
  {
   "cell_type": "markdown",
   "metadata": {},
   "source": [
    "### First problem: air_cargo_p1\n",
    "\n",
    "- Search methods: astar_search h_1, astar_search h_ignore_preconditions and astar_search h_pg_levelsum"
   ]
  },
  {
   "cell_type": "markdown",
   "metadata": {},
   "source": [
    "### 1) - astar_search h_1"
   ]
  },
  {
   "cell_type": "code",
   "execution_count": 2,
   "metadata": {
    "collapsed": false
   },
   "outputs": [
    {
     "name": "stdout",
     "output_type": "stream",
     "text": [
      "\n",
      "Solving Air Cargo Problem 1 using astar_search with h_1...\n",
      "\n",
      "Expansions   Goal Tests   New Nodes\n",
      "    55          57         224    \n",
      "\n",
      "Plan length: 6  Time elapsed in seconds: 0.0789819739293307\n",
      "Load(C1, P1, SFO)\n",
      "Load(C2, P2, JFK)\n",
      "Fly(P1, SFO, JFK)\n",
      "Fly(P2, JFK, SFO)\n",
      "Unload(C1, P1, JFK)\n",
      "Unload(C2, P2, SFO)\n",
      "\n"
     ]
    }
   ],
   "source": [
    "%run run_search.py -p 1 -s 8"
   ]
  },
  {
   "cell_type": "markdown",
   "metadata": {},
   "source": [
    "### 2) - astar_search h_ignore_preconditions"
   ]
  },
  {
   "cell_type": "code",
   "execution_count": 3,
   "metadata": {
    "collapsed": false
   },
   "outputs": [
    {
     "name": "stdout",
     "output_type": "stream",
     "text": [
      "\n",
      "Solving Air Cargo Problem 1 using astar_search with h_ignore_preconditions...\n",
      "\n",
      "Expansions   Goal Tests   New Nodes\n",
      "    41          43         170    \n",
      "\n",
      "Plan length: 6  Time elapsed in seconds: 0.08492878801189363\n",
      "Load(C1, P1, SFO)\n",
      "Fly(P1, SFO, JFK)\n",
      "Unload(C1, P1, JFK)\n",
      "Load(C2, P2, JFK)\n",
      "Fly(P2, JFK, SFO)\n",
      "Unload(C2, P2, SFO)\n",
      "\n"
     ]
    }
   ],
   "source": [
    "%run run_search.py -p 1 -s 9"
   ]
  },
  {
   "cell_type": "markdown",
   "metadata": {},
   "source": [
    "### 3) - astar_search h_pg_levelsum"
   ]
  },
  {
   "cell_type": "code",
   "execution_count": 4,
   "metadata": {
    "collapsed": false
   },
   "outputs": [
    {
     "name": "stdout",
     "output_type": "stream",
     "text": [
      "\n",
      "Solving Air Cargo Problem 1 using astar_search with h_pg_levelsum...\n",
      "\n",
      "Expansions   Goal Tests   New Nodes\n",
      "    11          13          50    \n",
      "\n",
      "Plan length: 6  Time elapsed in seconds: 3.08339868998155\n",
      "Load(C1, P1, SFO)\n",
      "Fly(P1, SFO, JFK)\n",
      "Load(C2, P2, JFK)\n",
      "Fly(P2, JFK, SFO)\n",
      "Unload(C1, P1, JFK)\n",
      "Unload(C2, P2, SFO)\n",
      "\n"
     ]
    }
   ],
   "source": [
    "%run run_search.py -p 1 -s 10"
   ]
  },
  {
   "cell_type": "markdown",
   "metadata": {},
   "source": [
    "### Second problem: air_cargo_p2\n",
    "\n",
    "- Search methods: astar_search h_1, astar_search h_ignore_preconditions and astar_search h_pg_levelsum"
   ]
  },
  {
   "cell_type": "markdown",
   "metadata": {},
   "source": [
    "### 1) - astar_search h_1"
   ]
  },
  {
   "cell_type": "code",
   "execution_count": 6,
   "metadata": {
    "collapsed": false
   },
   "outputs": [
    {
     "name": "stdout",
     "output_type": "stream",
     "text": [
      "\n",
      "Solving Air Cargo Problem 2 using astar_search with h_1...\n",
      "\n",
      "Expansions   Goal Tests   New Nodes\n",
      "   4853        4855       44041   \n",
      "\n",
      "Plan length: 9  Time elapsed in seconds: 61.375491166953\n",
      "Load(C1, P1, SFO)\n",
      "Load(C2, P2, JFK)\n",
      "Load(C3, P3, ATL)\n",
      "Fly(P1, SFO, JFK)\n",
      "Fly(P2, JFK, SFO)\n",
      "Fly(P3, ATL, SFO)\n",
      "Unload(C1, P1, JFK)\n",
      "Unload(C2, P2, SFO)\n",
      "Unload(C3, P3, SFO)\n",
      "\n"
     ]
    }
   ],
   "source": [
    "%run run_search.py -p 2 -s 8"
   ]
  },
  {
   "cell_type": "markdown",
   "metadata": {},
   "source": [
    "### 2) - astar_search h_ignore_preconditions\n"
   ]
  },
  {
   "cell_type": "code",
   "execution_count": 7,
   "metadata": {
    "collapsed": false
   },
   "outputs": [
    {
     "name": "stdout",
     "output_type": "stream",
     "text": [
      "\n",
      "Solving Air Cargo Problem 2 using astar_search with h_ignore_preconditions...\n",
      "\n",
      "Expansions   Goal Tests   New Nodes\n",
      "   1506        1508       13820   \n",
      "\n",
      "Plan length: 9  Time elapsed in seconds: 20.807023262954317\n",
      "Load(C1, P1, SFO)\n",
      "Fly(P1, SFO, JFK)\n",
      "Unload(C1, P1, JFK)\n",
      "Load(C2, P2, JFK)\n",
      "Fly(P2, JFK, SFO)\n",
      "Unload(C2, P2, SFO)\n",
      "Load(C3, P3, ATL)\n",
      "Fly(P3, ATL, SFO)\n",
      "Unload(C3, P3, SFO)\n",
      "\n"
     ]
    }
   ],
   "source": [
    "%run run_search.py -p 2 -s 9"
   ]
  },
  {
   "cell_type": "markdown",
   "metadata": {},
   "source": [
    "### 3) - astar_search h_pg_levelsum\n"
   ]
  },
  {
   "cell_type": "code",
   "execution_count": 8,
   "metadata": {
    "collapsed": false
   },
   "outputs": [
    {
     "name": "stdout",
     "output_type": "stream",
     "text": [
      "\n",
      "Solving Air Cargo Problem 2 using astar_search with h_pg_levelsum...\n",
      "\n",
      "Expansions   Goal Tests   New Nodes\n",
      "    86          88         841    \n",
      "\n",
      "Plan length: 9  Time elapsed in seconds: 321.5026430550497\n",
      "Load(C1, P1, SFO)\n",
      "Fly(P1, SFO, JFK)\n",
      "Load(C2, P2, JFK)\n",
      "Fly(P2, JFK, SFO)\n",
      "Load(C3, P3, ATL)\n",
      "Fly(P3, ATL, SFO)\n",
      "Unload(C1, P1, JFK)\n",
      "Unload(C2, P2, SFO)\n",
      "Unload(C3, P3, SFO)\n",
      "\n"
     ]
    }
   ],
   "source": [
    "%run run_search.py -p 2 -s 10"
   ]
  },
  {
   "cell_type": "markdown",
   "metadata": {},
   "source": [
    "### Third problem: air_cargo_p3\n",
    "\n",
    "- Search methods: astar_search h_1, astar_search h_ignore_preconditions and astar_search h_pg_levelsum"
   ]
  },
  {
   "cell_type": "markdown",
   "metadata": {},
   "source": [
    "### 1) - astar_search h_1"
   ]
  },
  {
   "cell_type": "code",
   "execution_count": 9,
   "metadata": {
    "collapsed": false
   },
   "outputs": [
    {
     "name": "stdout",
     "output_type": "stream",
     "text": [
      "\n",
      "Solving Air Cargo Problem 3 using astar_search with h_1...\n",
      "\n",
      "Expansions   Goal Tests   New Nodes\n",
      "  18151       18153       159038  \n",
      "\n",
      "Plan length: 12  Time elapsed in seconds: 504.1941834639292\n",
      "Load(C1, P1, SFO)\n",
      "Load(C2, P2, JFK)\n",
      "Fly(P1, SFO, ATL)\n",
      "Load(C3, P1, ATL)\n",
      "Fly(P2, JFK, ORD)\n",
      "Load(C4, P2, ORD)\n",
      "Fly(P2, ORD, SFO)\n",
      "Fly(P1, ATL, JFK)\n",
      "Unload(C1, P1, JFK)\n",
      "Unload(C2, P2, SFO)\n",
      "Unload(C3, P1, JFK)\n",
      "Unload(C4, P2, SFO)\n",
      "\n"
     ]
    }
   ],
   "source": [
    "%run run_search.py -p 3 -s 8"
   ]
  },
  {
   "cell_type": "markdown",
   "metadata": {},
   "source": [
    "### 2) - astar_search h_ignore_preconditions\n"
   ]
  },
  {
   "cell_type": "code",
   "execution_count": 10,
   "metadata": {
    "collapsed": false
   },
   "outputs": [
    {
     "name": "stdout",
     "output_type": "stream",
     "text": [
      "\n",
      "Solving Air Cargo Problem 3 using astar_search with h_ignore_preconditions...\n",
      "\n",
      "Expansions   Goal Tests   New Nodes\n",
      "   5118        5120       45650   \n",
      "\n",
      "Plan length: 12  Time elapsed in seconds: 130.61921787296887\n",
      "Load(C1, P1, SFO)\n",
      "Fly(P1, SFO, ATL)\n",
      "Load(C3, P1, ATL)\n",
      "Fly(P1, ATL, JFK)\n",
      "Unload(C1, P1, JFK)\n",
      "Load(C2, P2, JFK)\n",
      "Fly(P2, JFK, ORD)\n",
      "Load(C4, P2, ORD)\n",
      "Fly(P2, ORD, SFO)\n",
      "Unload(C2, P2, SFO)\n",
      "Unload(C3, P1, JFK)\n",
      "Unload(C4, P2, SFO)\n",
      "\n"
     ]
    }
   ],
   "source": [
    "%run run_search.py -p 3 -s 9"
   ]
  },
  {
   "cell_type": "markdown",
   "metadata": {},
   "source": [
    "### 3) - astar_search h_pg_levelsum\n"
   ]
  },
  {
   "cell_type": "raw",
   "metadata": {},
   "source": [
    "%run run_search.py -p 3 -s 10\n",
    "\n",
    "\n",
    "Solving Air Cargo Problem 3 using astar_search with h_pg_levelsum...\n",
    "\n",
    "Expansions   Goal Tests   New Nodes\n",
    "   404         406         3718\n",
    "\n",
    "Plan length: 12  Time elapsed in seconds: 2100.5661585619673\n",
    "Load(C2, P2, JFK)\n",
    "Fly(P2, JFK, ORD)\n",
    "Load(C4, P2, ORD)\n",
    "Fly(P2, ORD, SFO)\n",
    "Load(C1, P1, SFO)\n",
    "Fly(P1, SFO, ATL)\n",
    "Load(C3, P1, ATL)\n",
    "Fly(P1, ATL, JFK)\n",
    "Unload(C1, P1, JFK)\n",
    "Unload(C2, P2, SFO)\n",
    "Unload(C3, P1, JFK)\n",
    "Unload(C4, P2, SFO)"
   ]
  },
  {
   "cell_type": "markdown",
   "metadata": {},
   "source": [
    "### Summary from results\n",
    "\n",
    "\n",
    "#### Air Cargo Problem 1\n",
    "\n",
    "|   |Expansions   |  Goal Tests |  New Nodes  | Plan length |Time elapsed in seconds |\n",
    "|---|---          |---          |---          |---          |---                    |\n",
    "|astar_search h_1   | 55  | 57  |224   | 6 | 0.0789819739293307\n",
    "| astar_search h_ignore_preconditions  |  41 |  43 | 170  | 6 | 0.08492878801189363\n",
    "|astar_search h_pg_levelsum   | 11  | 13  | 50  | 6 | 3.08339868998155\n",
    "\n",
    "\n",
    "#### Air Cargo Problem 2\n",
    "\n",
    "|   |Expansions   |  Goal Tests |  New Nodes  | Plan length |Time elapsed in seconds |\n",
    "|---|---          |---          |---          |---          |---                    |\n",
    "|astar_search h_1   | 4853  | 4855  | 44041   | 9 | 61.375491166953\n",
    "| astar_search h_ignore_preconditions  |  1506 |  1508 | 13820  | 9 | 20.807023262954317\n",
    "|astar_search h_pg_levelsum   | 86  | 88  | 841  | 9 | 321.5026430550497\n",
    "\n",
    "                                                     \n",
    "#### Air Cargo Problem 3\n",
    "\n",
    "|   |Expansions   |  Goal Tests |  New Nodes  | Plan length |Time elapsed in seconds |\n",
    "|---|---          |---          |---          |---          |---                    |\n",
    "|astar_search h_1   | 18151  | 18153  | 159038   | 12 | 504.1941834639292\n",
    "| astar_search h_ignore_preconditions  |  5118 |  5120 | 45650  | 12 | 130.61921787296887\n",
    "|astar_search h_pg_levelsum   | 404  | 406  | 3718  | 12 | 2100.5661585619673"
   ]
  },
  {
   "cell_type": "code",
   "execution_count": null,
   "metadata": {
    "collapsed": true
   },
   "outputs": [],
   "source": []
  }
 ],
 "metadata": {
  "kernelspec": {
   "display_name": "Python 3",
   "language": "python",
   "name": "python3"
  },
  "language_info": {
   "codemirror_mode": {
    "name": "ipython",
    "version": 3
   },
   "file_extension": ".py",
   "mimetype": "text/x-python",
   "name": "python",
   "nbconvert_exporter": "python",
   "pygments_lexer": "ipython3",
   "version": "3.5.2"
  }
 },
 "nbformat": 4,
 "nbformat_minor": 0
}
